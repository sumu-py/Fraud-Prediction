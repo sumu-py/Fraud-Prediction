{
 "cells": [
  {
   "cell_type": "markdown",
   "id": "6a5c9dd4",
   "metadata": {},
   "source": [
    "##   1. Importing the libraries"
   ]
  },
  {
   "cell_type": "code",
   "execution_count": 2,
   "id": "147c7e01",
   "metadata": {},
   "outputs": [],
   "source": [
    "import numpy as np\n",
    "import pandas as pd\n",
    "import matplotlib.pyplot as plt\n",
    "import matplotlib.ticker as mtick\n",
    "import seaborn as sns\n",
    "sns.set()"
   ]
  },
  {
   "cell_type": "code",
   "execution_count": 3,
   "id": "9bfbbb5c",
   "metadata": {},
   "outputs": [],
   "source": [
    "import warnings\n",
    "warnings.filterwarnings(\"ignore\", category = DeprecationWarning)"
   ]
  },
  {
   "cell_type": "markdown",
   "id": "74f4e6ad",
   "metadata": {},
   "source": [
    "## 2. Loading the dataset"
   ]
  },
  {
   "cell_type": "code",
   "execution_count": 4,
   "id": "c005295d",
   "metadata": {},
   "outputs": [
    {
     "data": {
      "text/html": [
       "<div>\n",
       "<style scoped>\n",
       "    .dataframe tbody tr th:only-of-type {\n",
       "        vertical-align: middle;\n",
       "    }\n",
       "\n",
       "    .dataframe tbody tr th {\n",
       "        vertical-align: top;\n",
       "    }\n",
       "\n",
       "    .dataframe thead th {\n",
       "        text-align: right;\n",
       "    }\n",
       "</style>\n",
       "<table border=\"1\" class=\"dataframe\">\n",
       "  <thead>\n",
       "    <tr style=\"text-align: right;\">\n",
       "      <th></th>\n",
       "      <th>step</th>\n",
       "      <th>type</th>\n",
       "      <th>amount</th>\n",
       "      <th>nameOrig</th>\n",
       "      <th>oldbalanceOrg</th>\n",
       "      <th>newbalanceOrig</th>\n",
       "      <th>nameDest</th>\n",
       "      <th>oldbalanceDest</th>\n",
       "      <th>newbalanceDest</th>\n",
       "      <th>isFraud</th>\n",
       "      <th>isFlaggedFraud</th>\n",
       "    </tr>\n",
       "  </thead>\n",
       "  <tbody>\n",
       "    <tr>\n",
       "      <th>0</th>\n",
       "      <td>1</td>\n",
       "      <td>PAYMENT</td>\n",
       "      <td>9839.64</td>\n",
       "      <td>C1231006815</td>\n",
       "      <td>170136.00</td>\n",
       "      <td>160296.36</td>\n",
       "      <td>M1979787155</td>\n",
       "      <td>0.00</td>\n",
       "      <td>0.00</td>\n",
       "      <td>0</td>\n",
       "      <td>0</td>\n",
       "    </tr>\n",
       "    <tr>\n",
       "      <th>1</th>\n",
       "      <td>1</td>\n",
       "      <td>PAYMENT</td>\n",
       "      <td>1864.28</td>\n",
       "      <td>C1666544295</td>\n",
       "      <td>21249.00</td>\n",
       "      <td>19384.72</td>\n",
       "      <td>M2044282225</td>\n",
       "      <td>0.00</td>\n",
       "      <td>0.00</td>\n",
       "      <td>0</td>\n",
       "      <td>0</td>\n",
       "    </tr>\n",
       "    <tr>\n",
       "      <th>2</th>\n",
       "      <td>1</td>\n",
       "      <td>TRANSFER</td>\n",
       "      <td>181.00</td>\n",
       "      <td>C1305486145</td>\n",
       "      <td>181.00</td>\n",
       "      <td>0.00</td>\n",
       "      <td>C553264065</td>\n",
       "      <td>0.00</td>\n",
       "      <td>0.00</td>\n",
       "      <td>1</td>\n",
       "      <td>0</td>\n",
       "    </tr>\n",
       "    <tr>\n",
       "      <th>3</th>\n",
       "      <td>1</td>\n",
       "      <td>CASH_OUT</td>\n",
       "      <td>181.00</td>\n",
       "      <td>C840083671</td>\n",
       "      <td>181.00</td>\n",
       "      <td>0.00</td>\n",
       "      <td>C38997010</td>\n",
       "      <td>21182.00</td>\n",
       "      <td>0.00</td>\n",
       "      <td>1</td>\n",
       "      <td>0</td>\n",
       "    </tr>\n",
       "    <tr>\n",
       "      <th>4</th>\n",
       "      <td>1</td>\n",
       "      <td>PAYMENT</td>\n",
       "      <td>11668.14</td>\n",
       "      <td>C2048537720</td>\n",
       "      <td>41554.00</td>\n",
       "      <td>29885.86</td>\n",
       "      <td>M1230701703</td>\n",
       "      <td>0.00</td>\n",
       "      <td>0.00</td>\n",
       "      <td>0</td>\n",
       "      <td>0</td>\n",
       "    </tr>\n",
       "    <tr>\n",
       "      <th>...</th>\n",
       "      <td>...</td>\n",
       "      <td>...</td>\n",
       "      <td>...</td>\n",
       "      <td>...</td>\n",
       "      <td>...</td>\n",
       "      <td>...</td>\n",
       "      <td>...</td>\n",
       "      <td>...</td>\n",
       "      <td>...</td>\n",
       "      <td>...</td>\n",
       "      <td>...</td>\n",
       "    </tr>\n",
       "    <tr>\n",
       "      <th>6362615</th>\n",
       "      <td>743</td>\n",
       "      <td>CASH_OUT</td>\n",
       "      <td>339682.13</td>\n",
       "      <td>C786484425</td>\n",
       "      <td>339682.13</td>\n",
       "      <td>0.00</td>\n",
       "      <td>C776919290</td>\n",
       "      <td>0.00</td>\n",
       "      <td>339682.13</td>\n",
       "      <td>1</td>\n",
       "      <td>0</td>\n",
       "    </tr>\n",
       "    <tr>\n",
       "      <th>6362616</th>\n",
       "      <td>743</td>\n",
       "      <td>TRANSFER</td>\n",
       "      <td>6311409.28</td>\n",
       "      <td>C1529008245</td>\n",
       "      <td>6311409.28</td>\n",
       "      <td>0.00</td>\n",
       "      <td>C1881841831</td>\n",
       "      <td>0.00</td>\n",
       "      <td>0.00</td>\n",
       "      <td>1</td>\n",
       "      <td>0</td>\n",
       "    </tr>\n",
       "    <tr>\n",
       "      <th>6362617</th>\n",
       "      <td>743</td>\n",
       "      <td>CASH_OUT</td>\n",
       "      <td>6311409.28</td>\n",
       "      <td>C1162922333</td>\n",
       "      <td>6311409.28</td>\n",
       "      <td>0.00</td>\n",
       "      <td>C1365125890</td>\n",
       "      <td>68488.84</td>\n",
       "      <td>6379898.11</td>\n",
       "      <td>1</td>\n",
       "      <td>0</td>\n",
       "    </tr>\n",
       "    <tr>\n",
       "      <th>6362618</th>\n",
       "      <td>743</td>\n",
       "      <td>TRANSFER</td>\n",
       "      <td>850002.52</td>\n",
       "      <td>C1685995037</td>\n",
       "      <td>850002.52</td>\n",
       "      <td>0.00</td>\n",
       "      <td>C2080388513</td>\n",
       "      <td>0.00</td>\n",
       "      <td>0.00</td>\n",
       "      <td>1</td>\n",
       "      <td>0</td>\n",
       "    </tr>\n",
       "    <tr>\n",
       "      <th>6362619</th>\n",
       "      <td>743</td>\n",
       "      <td>CASH_OUT</td>\n",
       "      <td>850002.52</td>\n",
       "      <td>C1280323807</td>\n",
       "      <td>850002.52</td>\n",
       "      <td>0.00</td>\n",
       "      <td>C873221189</td>\n",
       "      <td>6510099.11</td>\n",
       "      <td>7360101.63</td>\n",
       "      <td>1</td>\n",
       "      <td>0</td>\n",
       "    </tr>\n",
       "  </tbody>\n",
       "</table>\n",
       "<p>6362620 rows × 11 columns</p>\n",
       "</div>"
      ],
      "text/plain": [
       "         step      type      amount     nameOrig  oldbalanceOrg  \\\n",
       "0           1   PAYMENT     9839.64  C1231006815      170136.00   \n",
       "1           1   PAYMENT     1864.28  C1666544295       21249.00   \n",
       "2           1  TRANSFER      181.00  C1305486145         181.00   \n",
       "3           1  CASH_OUT      181.00   C840083671         181.00   \n",
       "4           1   PAYMENT    11668.14  C2048537720       41554.00   \n",
       "...       ...       ...         ...          ...            ...   \n",
       "6362615   743  CASH_OUT   339682.13   C786484425      339682.13   \n",
       "6362616   743  TRANSFER  6311409.28  C1529008245     6311409.28   \n",
       "6362617   743  CASH_OUT  6311409.28  C1162922333     6311409.28   \n",
       "6362618   743  TRANSFER   850002.52  C1685995037      850002.52   \n",
       "6362619   743  CASH_OUT   850002.52  C1280323807      850002.52   \n",
       "\n",
       "         newbalanceOrig     nameDest  oldbalanceDest  newbalanceDest  isFraud  \\\n",
       "0             160296.36  M1979787155            0.00            0.00        0   \n",
       "1              19384.72  M2044282225            0.00            0.00        0   \n",
       "2                  0.00   C553264065            0.00            0.00        1   \n",
       "3                  0.00    C38997010        21182.00            0.00        1   \n",
       "4              29885.86  M1230701703            0.00            0.00        0   \n",
       "...                 ...          ...             ...             ...      ...   \n",
       "6362615            0.00   C776919290            0.00       339682.13        1   \n",
       "6362616            0.00  C1881841831            0.00            0.00        1   \n",
       "6362617            0.00  C1365125890        68488.84      6379898.11        1   \n",
       "6362618            0.00  C2080388513            0.00            0.00        1   \n",
       "6362619            0.00   C873221189      6510099.11      7360101.63        1   \n",
       "\n",
       "         isFlaggedFraud  \n",
       "0                     0  \n",
       "1                     0  \n",
       "2                     0  \n",
       "3                     0  \n",
       "4                     0  \n",
       "...                 ...  \n",
       "6362615               0  \n",
       "6362616               0  \n",
       "6362617               0  \n",
       "6362618               0  \n",
       "6362619               0  \n",
       "\n",
       "[6362620 rows x 11 columns]"
      ]
     },
     "execution_count": 4,
     "metadata": {},
     "output_type": "execute_result"
    }
   ],
   "source": [
    "dataset = pd.read_csv('Fraud.csv')\n",
    "\n",
    "# Just to take a glimpse of the dataset\n",
    "dataset "
   ]
  },
  {
   "cell_type": "markdown",
   "id": "95d28881",
   "metadata": {},
   "source": [
    "## 3. Exploratory Data Analysis"
   ]
  },
  {
   "cell_type": "markdown",
   "id": "ef1e0277",
   "metadata": {},
   "source": [
    "### 3.1. Checking for missing values"
   ]
  },
  {
   "cell_type": "code",
   "execution_count": 5,
   "id": "79c5b131",
   "metadata": {},
   "outputs": [
    {
     "name": "stdout",
     "output_type": "stream",
     "text": [
      "step              0\n",
      "type              0\n",
      "amount            0\n",
      "nameOrig          0\n",
      "oldbalanceOrg     0\n",
      "newbalanceOrig    0\n",
      "nameDest          0\n",
      "oldbalanceDest    0\n",
      "newbalanceDest    0\n",
      "isFraud           0\n",
      "isFlaggedFraud    0\n",
      "dtype: int64\n"
     ]
    }
   ],
   "source": [
    "# Checking for missing values\n",
    "\n",
    "print(dataset.isnull().sum())"
   ]
  },
  {
   "cell_type": "markdown",
   "id": "aa4867a2",
   "metadata": {},
   "source": [
    "Apparently we see that there are no missing values, but from the problem statement we know that balances of merchant's should be different from 0, which are actually kept 0 as no information about their accounts are obtained."
   ]
  },
  {
   "cell_type": "markdown",
   "id": "bddd9985",
   "metadata": {},
   "source": [
    "### 3.2. Brief description of the dataset"
   ]
  },
  {
   "cell_type": "code",
   "execution_count": 6,
   "id": "3dd947e0",
   "metadata": {},
   "outputs": [
    {
     "data": {
      "text/html": [
       "<div>\n",
       "<style scoped>\n",
       "    .dataframe tbody tr th:only-of-type {\n",
       "        vertical-align: middle;\n",
       "    }\n",
       "\n",
       "    .dataframe tbody tr th {\n",
       "        vertical-align: top;\n",
       "    }\n",
       "\n",
       "    .dataframe thead th {\n",
       "        text-align: right;\n",
       "    }\n",
       "</style>\n",
       "<table border=\"1\" class=\"dataframe\">\n",
       "  <thead>\n",
       "    <tr style=\"text-align: right;\">\n",
       "      <th></th>\n",
       "      <th>step</th>\n",
       "      <th>type</th>\n",
       "      <th>amount</th>\n",
       "      <th>nameOrig</th>\n",
       "      <th>oldbalanceOrg</th>\n",
       "      <th>newbalanceOrig</th>\n",
       "      <th>nameDest</th>\n",
       "      <th>oldbalanceDest</th>\n",
       "      <th>newbalanceDest</th>\n",
       "      <th>isFraud</th>\n",
       "      <th>isFlaggedFraud</th>\n",
       "    </tr>\n",
       "  </thead>\n",
       "  <tbody>\n",
       "    <tr>\n",
       "      <th>count</th>\n",
       "      <td>6362620.00</td>\n",
       "      <td>6362620</td>\n",
       "      <td>6362620.00</td>\n",
       "      <td>6362620</td>\n",
       "      <td>6362620.00</td>\n",
       "      <td>6362620.00</td>\n",
       "      <td>6362620</td>\n",
       "      <td>6362620.00</td>\n",
       "      <td>6362620.00</td>\n",
       "      <td>6362620.00</td>\n",
       "      <td>6362620.00</td>\n",
       "    </tr>\n",
       "    <tr>\n",
       "      <th>unique</th>\n",
       "      <td>NaN</td>\n",
       "      <td>5</td>\n",
       "      <td>NaN</td>\n",
       "      <td>6353307</td>\n",
       "      <td>NaN</td>\n",
       "      <td>NaN</td>\n",
       "      <td>2722362</td>\n",
       "      <td>NaN</td>\n",
       "      <td>NaN</td>\n",
       "      <td>NaN</td>\n",
       "      <td>NaN</td>\n",
       "    </tr>\n",
       "    <tr>\n",
       "      <th>top</th>\n",
       "      <td>NaN</td>\n",
       "      <td>CASH_OUT</td>\n",
       "      <td>NaN</td>\n",
       "      <td>C1902386530</td>\n",
       "      <td>NaN</td>\n",
       "      <td>NaN</td>\n",
       "      <td>C1286084959</td>\n",
       "      <td>NaN</td>\n",
       "      <td>NaN</td>\n",
       "      <td>NaN</td>\n",
       "      <td>NaN</td>\n",
       "    </tr>\n",
       "    <tr>\n",
       "      <th>freq</th>\n",
       "      <td>NaN</td>\n",
       "      <td>2237500</td>\n",
       "      <td>NaN</td>\n",
       "      <td>3</td>\n",
       "      <td>NaN</td>\n",
       "      <td>NaN</td>\n",
       "      <td>113</td>\n",
       "      <td>NaN</td>\n",
       "      <td>NaN</td>\n",
       "      <td>NaN</td>\n",
       "      <td>NaN</td>\n",
       "    </tr>\n",
       "    <tr>\n",
       "      <th>mean</th>\n",
       "      <td>243.40</td>\n",
       "      <td>NaN</td>\n",
       "      <td>179861.90</td>\n",
       "      <td>NaN</td>\n",
       "      <td>833883.10</td>\n",
       "      <td>855113.67</td>\n",
       "      <td>NaN</td>\n",
       "      <td>1100701.67</td>\n",
       "      <td>1224996.40</td>\n",
       "      <td>0.00</td>\n",
       "      <td>0.00</td>\n",
       "    </tr>\n",
       "    <tr>\n",
       "      <th>std</th>\n",
       "      <td>142.33</td>\n",
       "      <td>NaN</td>\n",
       "      <td>603858.23</td>\n",
       "      <td>NaN</td>\n",
       "      <td>2888242.67</td>\n",
       "      <td>2924048.50</td>\n",
       "      <td>NaN</td>\n",
       "      <td>3399180.11</td>\n",
       "      <td>3674128.94</td>\n",
       "      <td>0.04</td>\n",
       "      <td>0.00</td>\n",
       "    </tr>\n",
       "    <tr>\n",
       "      <th>min</th>\n",
       "      <td>1.00</td>\n",
       "      <td>NaN</td>\n",
       "      <td>0.00</td>\n",
       "      <td>NaN</td>\n",
       "      <td>0.00</td>\n",
       "      <td>0.00</td>\n",
       "      <td>NaN</td>\n",
       "      <td>0.00</td>\n",
       "      <td>0.00</td>\n",
       "      <td>0.00</td>\n",
       "      <td>0.00</td>\n",
       "    </tr>\n",
       "    <tr>\n",
       "      <th>25%</th>\n",
       "      <td>156.00</td>\n",
       "      <td>NaN</td>\n",
       "      <td>13389.57</td>\n",
       "      <td>NaN</td>\n",
       "      <td>0.00</td>\n",
       "      <td>0.00</td>\n",
       "      <td>NaN</td>\n",
       "      <td>0.00</td>\n",
       "      <td>0.00</td>\n",
       "      <td>0.00</td>\n",
       "      <td>0.00</td>\n",
       "    </tr>\n",
       "    <tr>\n",
       "      <th>50%</th>\n",
       "      <td>239.00</td>\n",
       "      <td>NaN</td>\n",
       "      <td>74871.94</td>\n",
       "      <td>NaN</td>\n",
       "      <td>14208.00</td>\n",
       "      <td>0.00</td>\n",
       "      <td>NaN</td>\n",
       "      <td>132705.66</td>\n",
       "      <td>214661.44</td>\n",
       "      <td>0.00</td>\n",
       "      <td>0.00</td>\n",
       "    </tr>\n",
       "    <tr>\n",
       "      <th>75%</th>\n",
       "      <td>335.00</td>\n",
       "      <td>NaN</td>\n",
       "      <td>208721.48</td>\n",
       "      <td>NaN</td>\n",
       "      <td>107315.18</td>\n",
       "      <td>144258.41</td>\n",
       "      <td>NaN</td>\n",
       "      <td>943036.71</td>\n",
       "      <td>1111909.25</td>\n",
       "      <td>0.00</td>\n",
       "      <td>0.00</td>\n",
       "    </tr>\n",
       "    <tr>\n",
       "      <th>max</th>\n",
       "      <td>743.00</td>\n",
       "      <td>NaN</td>\n",
       "      <td>92445516.64</td>\n",
       "      <td>NaN</td>\n",
       "      <td>59585040.37</td>\n",
       "      <td>49585040.37</td>\n",
       "      <td>NaN</td>\n",
       "      <td>356015889.35</td>\n",
       "      <td>356179278.92</td>\n",
       "      <td>1.00</td>\n",
       "      <td>1.00</td>\n",
       "    </tr>\n",
       "  </tbody>\n",
       "</table>\n",
       "</div>"
      ],
      "text/plain": [
       "             step      type      amount     nameOrig  oldbalanceOrg  \\\n",
       "count  6362620.00   6362620  6362620.00      6362620     6362620.00   \n",
       "unique        NaN         5         NaN      6353307            NaN   \n",
       "top           NaN  CASH_OUT         NaN  C1902386530            NaN   \n",
       "freq          NaN   2237500         NaN            3            NaN   \n",
       "mean       243.40       NaN   179861.90          NaN      833883.10   \n",
       "std        142.33       NaN   603858.23          NaN     2888242.67   \n",
       "min          1.00       NaN        0.00          NaN           0.00   \n",
       "25%        156.00       NaN    13389.57          NaN           0.00   \n",
       "50%        239.00       NaN    74871.94          NaN       14208.00   \n",
       "75%        335.00       NaN   208721.48          NaN      107315.18   \n",
       "max        743.00       NaN 92445516.64          NaN    59585040.37   \n",
       "\n",
       "        newbalanceOrig     nameDest  oldbalanceDest  newbalanceDest  \\\n",
       "count       6362620.00      6362620      6362620.00      6362620.00   \n",
       "unique             NaN      2722362             NaN             NaN   \n",
       "top                NaN  C1286084959             NaN             NaN   \n",
       "freq               NaN          113             NaN             NaN   \n",
       "mean         855113.67          NaN      1100701.67      1224996.40   \n",
       "std         2924048.50          NaN      3399180.11      3674128.94   \n",
       "min               0.00          NaN            0.00            0.00   \n",
       "25%               0.00          NaN            0.00            0.00   \n",
       "50%               0.00          NaN       132705.66       214661.44   \n",
       "75%          144258.41          NaN       943036.71      1111909.25   \n",
       "max        49585040.37          NaN    356015889.35    356179278.92   \n",
       "\n",
       "          isFraud  isFlaggedFraud  \n",
       "count  6362620.00      6362620.00  \n",
       "unique        NaN             NaN  \n",
       "top           NaN             NaN  \n",
       "freq          NaN             NaN  \n",
       "mean         0.00            0.00  \n",
       "std          0.04            0.00  \n",
       "min          0.00            0.00  \n",
       "25%          0.00            0.00  \n",
       "50%          0.00            0.00  \n",
       "75%          0.00            0.00  \n",
       "max          1.00            1.00  "
      ]
     },
     "execution_count": 6,
     "metadata": {},
     "output_type": "execute_result"
    }
   ],
   "source": [
    "# A brief description of the dataset\n",
    "\n",
    "pd.set_option('display.float_format', '{:.2f}'.format)\n",
    "dataset.describe(include = 'all')"
   ]
  },
  {
   "cell_type": "markdown",
   "id": "985eb773",
   "metadata": {},
   "source": [
    "#### Inferences from the data"
   ]
  },
  {
   "cell_type": "markdown",
   "id": "c67b9ab1",
   "metadata": {},
   "source": [
    "1. We see that 'type', 'nameOrig', 'nameDest' are categorical features while the rest are of numerical type.\n",
    "2. 'type' has 5 categories with 'CASH_OUT' as the most frequently occured feature. Encoding is possible.\n",
    "3. 'nameOrig' and 'nameDest' has over 6 millions and 2 millions character respectively. Encoding is useless."
   ]
  },
  {
   "cell_type": "markdown",
   "id": "b3ebcf51",
   "metadata": {},
   "source": [
    "### 3.3. Fraudulent transactions in each category of 'type'"
   ]
  },
  {
   "cell_type": "code",
   "execution_count": 7,
   "id": "8bd65a12",
   "metadata": {
    "scrolled": true
   },
   "outputs": [
    {
     "name": "stdout",
     "output_type": "stream",
     "text": [
      "type      isFraud\n",
      "CASH_IN   0          1399284\n",
      "CASH_OUT  0          2233384\n",
      "          1             4116\n",
      "DEBIT     0            41432\n",
      "PAYMENT   0          2151495\n",
      "TRANSFER  0           528812\n",
      "          1             4097\n",
      "Name: step, dtype: int64\n"
     ]
    }
   ],
   "source": [
    "# Taking a look at the number of fraudulent transactions in each category of 'type'\n",
    "\n",
    "groups = dataset.groupby(['type', 'isFraud']).count()['step']\n",
    "print(groups)"
   ]
  },
  {
   "cell_type": "markdown",
   "id": "735317dc",
   "metadata": {},
   "source": [
    "We can see from this that Fraudulent transactions only occur in 'CASH_OUT' and 'TRANSFER' transactions."
   ]
  },
  {
   "cell_type": "code",
   "execution_count": 8,
   "id": "7d3c9770",
   "metadata": {
    "scrolled": false
   },
   "outputs": [
    {
     "name": "stdout",
     "output_type": "stream",
     "text": [
      "A Summary of the type of transactions :\n",
      "\n",
      "Total number of transactions = 6362620\n",
      "Total number of valid transactions = 6354407 i.e. 99.87 %\n",
      "Total number of fraudulent transactions = 8213 i.e. 0.13 %\n"
     ]
    }
   ],
   "source": [
    "# Printing the number of valid and fraud transactions\n",
    "print('A Summary of the type of transactions :')\n",
    "print()\n",
    "print('Total number of transactions =', groups[:, :].sum())\n",
    "print('Total number of valid transactions =', groups[:, 0].sum(), 'i.e.', round(groups[:, 0].sum()/groups[:, :].sum()*100,2), '%')\n",
    "print('Total number of fraudulent transactions =', groups[:, 1].sum(), 'i.e.', round(groups[:, 1].sum()/groups[:, :].sum()*100,2), '%')"
   ]
  },
  {
   "cell_type": "code",
   "execution_count": 9,
   "id": "d9d6663a",
   "metadata": {},
   "outputs": [
    {
     "data": {
      "image/png": "[encoded data removed]",
      "text/plain": [
       "<Figure size 864x360 with 1 Axes>"
      ]
     },
     "metadata": {},
     "output_type": "display_data"
    }
   ],
   "source": [
    "# Plotting the number of transactions vs type of transaction\n",
    "\n",
    "valid_trans = groups[:, 0].values\n",
    "fraud_trans = [groups[k, 1] if len(groups[k]) == 2 else 0 for k in np.array(groups[:,0].index)]\n",
    "\n",
    "labels = np.array(groups[:,0].index)\n",
    "\n",
    "x = np.arange(len(labels))  # the label locations\n",
    "width = 0.35  # the width of the bars\n",
    "\n",
    "fig, ax = plt.subplots(figsize=(12,5))\n",
    "ax.ticklabel_format(style='plain')\n",
    "\n",
    "rects1 = ax.bar(x - width/2, valid_trans, width, label='Valid_Transactions')\n",
    "rects2 = ax.bar(x + width/2, fraud_trans, width, label='Fraud_Transactions')\n",
    "\n",
    "# Add some text for labels, title and custom x-axis tick labels, etc.\n",
    "ax.set_ylabel('Number of Transactions', fontsize = 20)\n",
    "ax.set_title('Number of Transactions in terms of Valid and Fraud Transactions', fontsize = 20, pad = 25)\n",
    "ax.set_xticks(x)\n",
    "ax.set_xticklabels(labels, fontsize = 14)\n",
    "ax.legend(fontsize = 15)\n",
    "\n",
    "ax.bar_label(rects1, fontsize = 13, padding = -1.5, fmt = '%d')\n",
    "ax.bar_label(rects2, fontsize = 13, fmt = '%d')\n",
    "\n",
    "plt.show()"
   ]
  },
  {
   "cell_type": "markdown",
   "id": "95a25a05",
   "metadata": {},
   "source": [
    "From the plot also it is clear that Fraudulent transactions occur only in 'CASH_OUT' and 'TRANSFER' transactions."
   ]
  },
  {
   "cell_type": "markdown",
   "id": "a0a8789c",
   "metadata": {},
   "source": [
    "### 3.4. Business model - 'isFlaggedFraud'"
   ]
  },
  {
   "cell_type": "code",
   "execution_count": 10,
   "id": "f27034ec",
   "metadata": {},
   "outputs": [
    {
     "data": {
      "image/png": "[encoded data removed]",
      "text/plain": [
       "<Figure size 432x288 with 2 Axes>"
      ]
     },
     "metadata": {},
     "output_type": "display_data"
    }
   ],
   "source": [
    "# Let us now check the business model performance by comparing isFlaggedFraud with isFraud\n",
    "\n",
    "from sklearn.metrics import confusion_matrix, ConfusionMatrixDisplay\n",
    "cm = confusion_matrix(dataset['isFraud'], dataset['isFlaggedFraud'])\n",
    "\n",
    "disp = ConfusionMatrixDisplay(confusion_matrix=cm)\n",
    "disp.plot(cmap='gist_ncar', values_format = '.0f')\n",
    "disp.ax_.grid(False)\n",
    "plt.title('Confusion matrix', fontsize = 20)\n",
    "plt.ylabel('Actual Fraud Transaction', fontsize = 15)\n",
    "plt.xlabel('Predicted Fraud Transaction', fontsize = 15)\n",
    "plt.show()"
   ]
  },
  {
   "cell_type": "markdown",
   "id": "18fc34ac",
   "metadata": {},
   "source": [
    "We can see from the confusion matrix that:\n",
    "1) There are 6354407 valid transactions and the business model predicted all as valid.\n",
    "\n",
    "2) The business model predicted 8197 fraud transactions incorrectly as valid transactions and predicted only 16 fraud transactions correctly.\n",
    "\n",
    "So we can see that the cutoff measure to classify any transaction of 200000 or more as fraudulent transaction by the business model is not sufficient to correctly predict fraudulent transactions.\n",
    "\n",
    "So we can conclude that 'isFlaggedFraud' is not a suitable variable to predict 'isFraud'."
   ]
  },
  {
   "cell_type": "markdown",
   "id": "6876f431",
   "metadata": {},
   "source": [
    "### 3.5. 'step' feature"
   ]
  },
  {
   "cell_type": "code",
   "execution_count": 11,
   "id": "d2ea7355",
   "metadata": {},
   "outputs": [
    {
     "data": {
      "image/png": "[encoded data removed]",
      "text/plain": [
       "<Figure size 1080x360 with 1 Axes>"
      ]
     },
     "metadata": {},
     "output_type": "display_data"
    }
   ],
   "source": [
    "# Let us now look at the 'step' feature. 'step' maps a unit of time in the real world. In this case, 1 step is 1 hour of time.\n",
    "# Lets take a look at the amount of fraudulent transactions each day for a period of 30 days.\n",
    "\n",
    "step_groups = dataset.groupby(['step', 'isFraud']).count()['type']\n",
    "step_range = np.array(range(0, 745, 24))\n",
    "days = np.array(range(1, 31, 1))\n",
    "fraud_transactions = []\n",
    "for count in range(len(days)):\n",
    "    val = step_groups[:, 1].iloc[step_range[count]:step_range[count+1]].sum()\n",
    "    fraud_transactions.append(val)\n",
    "\n",
    "    \n",
    "plt.figure(figsize = (15, 5))\n",
    "plt.title('Number of Fraudulent transactions per day', fontsize = 20)\n",
    "splot = sns.barplot(x = days, y = fraud_transactions)\n",
    "plt.bar_label(splot.containers[0])\n",
    "plt.ylabel('Number of Fraudulent transactions', fontsize = 15)\n",
    "plt.xlabel('Days', fontsize = 15)\n",
    "\n",
    "plt.show()"
   ]
  },
  {
   "cell_type": "markdown",
   "id": "0ee193e2",
   "metadata": {},
   "source": [
    "We can see from this plot that everyday there are almost same fraudulent transactions going on. So we can say that 'step' is not a good feature for predicting fraudulent transactions"
   ]
  },
  {
   "cell_type": "markdown",
   "id": "ab39efa5",
   "metadata": {},
   "source": [
    "### 3.6. Amounts of Fraudulent Transactions - 'amount'"
   ]
  },
  {
   "cell_type": "code",
   "execution_count": 12,
   "id": "65825c01",
   "metadata": {},
   "outputs": [
    {
     "data": {
      "image/png": "[encoded data removed]",
      "text/plain": [
       "<Figure size 1080x504 with 1 Axes>"
      ]
     },
     "metadata": {},
     "output_type": "display_data"
    }
   ],
   "source": [
    "# Let us now check the amounts of Fraudulent Transactions\n",
    "\n",
    "fraud = dataset[dataset['isFraud'] == 1]['amount']\n",
    "genuine = dataset[dataset['isFraud'] == 0]['amount']\n",
    "\n",
    "fig, ax = plt.subplots(figsize=(15, 7))\n",
    "ax.ticklabel_format(style='plain')\n",
    "\n",
    "plt.title('Amount of the transactions as genuine or fraudulent', fontsize = 20)\n",
    "plt.scatter(x = np.array(genuine.index), y = genuine, alpha = 0.4, edgecolors = 'black', label = 'genuine tansaction')\n",
    "plt.scatter(x = np.array(fraud.index), y = fraud, alpha = 0.3, c = 'cyan', edgecolors = 'orange', label = 'fraud transaction')\n",
    "plt.xlabel('Indexes', fontsize = 15)\n",
    "plt.ylabel('Transaction amount', fontsize = 15)\n",
    "plt.legend(fontsize = 15)\n",
    "plt.show()"
   ]
  },
  {
   "cell_type": "code",
   "execution_count": 13,
   "id": "2c0dc9f9",
   "metadata": {},
   "outputs": [
    {
     "name": "stdout",
     "output_type": "stream",
     "text": [
      "Maximum Fraudulent transaction amount = 10000000.0\n",
      "Minimum Fraudulent transaction amount = 0.0\n",
      "Number of Fraudulent transactions in which the amount is 0 = 16\n"
     ]
    }
   ],
   "source": [
    "print('Maximum Fraudulent transaction amount =', max(fraud))\n",
    "print('Minimum Fraudulent transaction amount =', min(fraud))\n",
    "print('Number of Fraudulent transactions in which the amount is 0 =', sum(fraud == 0))"
   ]
  },
  {
   "cell_type": "markdown",
   "id": "d237e74e",
   "metadata": {},
   "source": [
    "We can see from the above plot and data that there are some fraud transactions with transaction amount = 0. So let us have a look at those transactions.\n",
    "\n",
    "Also we can see that there are no fraudulent trasactions above 10000000."
   ]
  },
  {
   "cell_type": "code",
   "execution_count": 14,
   "id": "41e15246",
   "metadata": {},
   "outputs": [
    {
     "data": {
      "text/html": [
       "<div>\n",
       "<style scoped>\n",
       "    .dataframe tbody tr th:only-of-type {\n",
       "        vertical-align: middle;\n",
       "    }\n",
       "\n",
       "    .dataframe tbody tr th {\n",
       "        vertical-align: top;\n",
       "    }\n",
       "\n",
       "    .dataframe thead th {\n",
       "        text-align: right;\n",
       "    }\n",
       "</style>\n",
       "<table border=\"1\" class=\"dataframe\">\n",
       "  <thead>\n",
       "    <tr style=\"text-align: right;\">\n",
       "      <th></th>\n",
       "      <th>step</th>\n",
       "      <th>type</th>\n",
       "      <th>amount</th>\n",
       "      <th>nameOrig</th>\n",
       "      <th>oldbalanceOrg</th>\n",
       "      <th>newbalanceOrig</th>\n",
       "      <th>nameDest</th>\n",
       "      <th>oldbalanceDest</th>\n",
       "      <th>newbalanceDest</th>\n",
       "      <th>isFraud</th>\n",
       "      <th>isFlaggedFraud</th>\n",
       "    </tr>\n",
       "  </thead>\n",
       "  <tbody>\n",
       "    <tr>\n",
       "      <th>2736447</th>\n",
       "      <td>212</td>\n",
       "      <td>CASH_OUT</td>\n",
       "      <td>0.00</td>\n",
       "      <td>C1510987794</td>\n",
       "      <td>0.00</td>\n",
       "      <td>0.00</td>\n",
       "      <td>C1696624817</td>\n",
       "      <td>0.00</td>\n",
       "      <td>0.00</td>\n",
       "      <td>1</td>\n",
       "      <td>0</td>\n",
       "    </tr>\n",
       "    <tr>\n",
       "      <th>3247298</th>\n",
       "      <td>250</td>\n",
       "      <td>CASH_OUT</td>\n",
       "      <td>0.00</td>\n",
       "      <td>C521393327</td>\n",
       "      <td>0.00</td>\n",
       "      <td>0.00</td>\n",
       "      <td>C480398193</td>\n",
       "      <td>0.00</td>\n",
       "      <td>0.00</td>\n",
       "      <td>1</td>\n",
       "      <td>0</td>\n",
       "    </tr>\n",
       "    <tr>\n",
       "      <th>3760289</th>\n",
       "      <td>279</td>\n",
       "      <td>CASH_OUT</td>\n",
       "      <td>0.00</td>\n",
       "      <td>C539112012</td>\n",
       "      <td>0.00</td>\n",
       "      <td>0.00</td>\n",
       "      <td>C1106468520</td>\n",
       "      <td>538547.63</td>\n",
       "      <td>538547.63</td>\n",
       "      <td>1</td>\n",
       "      <td>0</td>\n",
       "    </tr>\n",
       "    <tr>\n",
       "      <th>5563714</th>\n",
       "      <td>387</td>\n",
       "      <td>CASH_OUT</td>\n",
       "      <td>0.00</td>\n",
       "      <td>C1294472700</td>\n",
       "      <td>0.00</td>\n",
       "      <td>0.00</td>\n",
       "      <td>C1325541393</td>\n",
       "      <td>7970766.57</td>\n",
       "      <td>7970766.57</td>\n",
       "      <td>1</td>\n",
       "      <td>0</td>\n",
       "    </tr>\n",
       "    <tr>\n",
       "      <th>5996408</th>\n",
       "      <td>425</td>\n",
       "      <td>CASH_OUT</td>\n",
       "      <td>0.00</td>\n",
       "      <td>C832555372</td>\n",
       "      <td>0.00</td>\n",
       "      <td>0.00</td>\n",
       "      <td>C1462759334</td>\n",
       "      <td>76759.90</td>\n",
       "      <td>76759.90</td>\n",
       "      <td>1</td>\n",
       "      <td>0</td>\n",
       "    </tr>\n",
       "    <tr>\n",
       "      <th>5996410</th>\n",
       "      <td>425</td>\n",
       "      <td>CASH_OUT</td>\n",
       "      <td>0.00</td>\n",
       "      <td>C69493310</td>\n",
       "      <td>0.00</td>\n",
       "      <td>0.00</td>\n",
       "      <td>C719711728</td>\n",
       "      <td>2921531.34</td>\n",
       "      <td>2921531.34</td>\n",
       "      <td>1</td>\n",
       "      <td>0</td>\n",
       "    </tr>\n",
       "    <tr>\n",
       "      <th>6168500</th>\n",
       "      <td>554</td>\n",
       "      <td>CASH_OUT</td>\n",
       "      <td>0.00</td>\n",
       "      <td>C10965156</td>\n",
       "      <td>0.00</td>\n",
       "      <td>0.00</td>\n",
       "      <td>C1493336195</td>\n",
       "      <td>230289.66</td>\n",
       "      <td>230289.66</td>\n",
       "      <td>1</td>\n",
       "      <td>0</td>\n",
       "    </tr>\n",
       "    <tr>\n",
       "      <th>6205440</th>\n",
       "      <td>586</td>\n",
       "      <td>CASH_OUT</td>\n",
       "      <td>0.00</td>\n",
       "      <td>C1303719003</td>\n",
       "      <td>0.00</td>\n",
       "      <td>0.00</td>\n",
       "      <td>C900608348</td>\n",
       "      <td>1328472.86</td>\n",
       "      <td>1328472.86</td>\n",
       "      <td>1</td>\n",
       "      <td>0</td>\n",
       "    </tr>\n",
       "    <tr>\n",
       "      <th>6266414</th>\n",
       "      <td>617</td>\n",
       "      <td>CASH_OUT</td>\n",
       "      <td>0.00</td>\n",
       "      <td>C1971175979</td>\n",
       "      <td>0.00</td>\n",
       "      <td>0.00</td>\n",
       "      <td>C1352345416</td>\n",
       "      <td>0.00</td>\n",
       "      <td>0.00</td>\n",
       "      <td>1</td>\n",
       "      <td>0</td>\n",
       "    </tr>\n",
       "    <tr>\n",
       "      <th>6281483</th>\n",
       "      <td>646</td>\n",
       "      <td>CASH_OUT</td>\n",
       "      <td>0.00</td>\n",
       "      <td>C2060908932</td>\n",
       "      <td>0.00</td>\n",
       "      <td>0.00</td>\n",
       "      <td>C1587892888</td>\n",
       "      <td>0.00</td>\n",
       "      <td>0.00</td>\n",
       "      <td>1</td>\n",
       "      <td>0</td>\n",
       "    </tr>\n",
       "    <tr>\n",
       "      <th>6281485</th>\n",
       "      <td>646</td>\n",
       "      <td>CASH_OUT</td>\n",
       "      <td>0.00</td>\n",
       "      <td>C1997645312</td>\n",
       "      <td>0.00</td>\n",
       "      <td>0.00</td>\n",
       "      <td>C601248796</td>\n",
       "      <td>0.00</td>\n",
       "      <td>0.00</td>\n",
       "      <td>1</td>\n",
       "      <td>0</td>\n",
       "    </tr>\n",
       "    <tr>\n",
       "      <th>6296015</th>\n",
       "      <td>671</td>\n",
       "      <td>CASH_OUT</td>\n",
       "      <td>0.00</td>\n",
       "      <td>C1960007029</td>\n",
       "      <td>0.00</td>\n",
       "      <td>0.00</td>\n",
       "      <td>C459118517</td>\n",
       "      <td>27938.72</td>\n",
       "      <td>27938.72</td>\n",
       "      <td>1</td>\n",
       "      <td>0</td>\n",
       "    </tr>\n",
       "    <tr>\n",
       "      <th>6351226</th>\n",
       "      <td>702</td>\n",
       "      <td>CASH_OUT</td>\n",
       "      <td>0.00</td>\n",
       "      <td>C1461113533</td>\n",
       "      <td>0.00</td>\n",
       "      <td>0.00</td>\n",
       "      <td>C1382150537</td>\n",
       "      <td>107777.02</td>\n",
       "      <td>107777.02</td>\n",
       "      <td>1</td>\n",
       "      <td>0</td>\n",
       "    </tr>\n",
       "    <tr>\n",
       "      <th>6362461</th>\n",
       "      <td>730</td>\n",
       "      <td>CASH_OUT</td>\n",
       "      <td>0.00</td>\n",
       "      <td>C729003789</td>\n",
       "      <td>0.00</td>\n",
       "      <td>0.00</td>\n",
       "      <td>C1388096959</td>\n",
       "      <td>1008609.53</td>\n",
       "      <td>1008609.53</td>\n",
       "      <td>1</td>\n",
       "      <td>0</td>\n",
       "    </tr>\n",
       "    <tr>\n",
       "      <th>6362463</th>\n",
       "      <td>730</td>\n",
       "      <td>CASH_OUT</td>\n",
       "      <td>0.00</td>\n",
       "      <td>C2088151490</td>\n",
       "      <td>0.00</td>\n",
       "      <td>0.00</td>\n",
       "      <td>C1156763710</td>\n",
       "      <td>0.00</td>\n",
       "      <td>0.00</td>\n",
       "      <td>1</td>\n",
       "      <td>0</td>\n",
       "    </tr>\n",
       "    <tr>\n",
       "      <th>6362585</th>\n",
       "      <td>741</td>\n",
       "      <td>CASH_OUT</td>\n",
       "      <td>0.00</td>\n",
       "      <td>C312737633</td>\n",
       "      <td>0.00</td>\n",
       "      <td>0.00</td>\n",
       "      <td>C1400061387</td>\n",
       "      <td>267522.87</td>\n",
       "      <td>267522.87</td>\n",
       "      <td>1</td>\n",
       "      <td>0</td>\n",
       "    </tr>\n",
       "  </tbody>\n",
       "</table>\n",
       "</div>"
      ],
      "text/plain": [
       "         step      type  amount     nameOrig  oldbalanceOrg  newbalanceOrig  \\\n",
       "2736447   212  CASH_OUT    0.00  C1510987794           0.00            0.00   \n",
       "3247298   250  CASH_OUT    0.00   C521393327           0.00            0.00   \n",
       "3760289   279  CASH_OUT    0.00   C539112012           0.00            0.00   \n",
       "5563714   387  CASH_OUT    0.00  C1294472700           0.00            0.00   \n",
       "5996408   425  CASH_OUT    0.00   C832555372           0.00            0.00   \n",
       "5996410   425  CASH_OUT    0.00    C69493310           0.00            0.00   \n",
       "6168500   554  CASH_OUT    0.00    C10965156           0.00            0.00   \n",
       "6205440   586  CASH_OUT    0.00  C1303719003           0.00            0.00   \n",
       "6266414   617  CASH_OUT    0.00  C1971175979           0.00            0.00   \n",
       "6281483   646  CASH_OUT    0.00  C2060908932           0.00            0.00   \n",
       "6281485   646  CASH_OUT    0.00  C1997645312           0.00            0.00   \n",
       "6296015   671  CASH_OUT    0.00  C1960007029           0.00            0.00   \n",
       "6351226   702  CASH_OUT    0.00  C1461113533           0.00            0.00   \n",
       "6362461   730  CASH_OUT    0.00   C729003789           0.00            0.00   \n",
       "6362463   730  CASH_OUT    0.00  C2088151490           0.00            0.00   \n",
       "6362585   741  CASH_OUT    0.00   C312737633           0.00            0.00   \n",
       "\n",
       "            nameDest  oldbalanceDest  newbalanceDest  isFraud  isFlaggedFraud  \n",
       "2736447  C1696624817            0.00            0.00        1               0  \n",
       "3247298   C480398193            0.00            0.00        1               0  \n",
       "3760289  C1106468520       538547.63       538547.63        1               0  \n",
       "5563714  C1325541393      7970766.57      7970766.57        1               0  \n",
       "5996408  C1462759334        76759.90        76759.90        1               0  \n",
       "5996410   C719711728      2921531.34      2921531.34        1               0  \n",
       "6168500  C1493336195       230289.66       230289.66        1               0  \n",
       "6205440   C900608348      1328472.86      1328472.86        1               0  \n",
       "6266414  C1352345416            0.00            0.00        1               0  \n",
       "6281483  C1587892888            0.00            0.00        1               0  \n",
       "6281485   C601248796            0.00            0.00        1               0  \n",
       "6296015   C459118517        27938.72        27938.72        1               0  \n",
       "6351226  C1382150537       107777.02       107777.02        1               0  \n",
       "6362461  C1388096959      1008609.53      1008609.53        1               0  \n",
       "6362463  C1156763710            0.00            0.00        1               0  \n",
       "6362585  C1400061387       267522.87       267522.87        1               0  "
      ]
     },
     "execution_count": 14,
     "metadata": {},
     "output_type": "execute_result"
    }
   ],
   "source": [
    "# All unsuccessfull fraud transaction attempts\n",
    "\n",
    "dataset.iloc[dataset[dataset['amount'] == 0].index, :]"
   ]
  },
  {
   "cell_type": "markdown",
   "id": "769272b1",
   "metadata": {},
   "source": [
    "So after looking at the data, I think that these are some failed fraud transaction attempts. The fraud attempts failed due to 0 balance in the target accounts, as we can see from the 'oldbalanceOrg' column. Also we can see that all those attemps were of 'type' = 'CASH_OUT'."
   ]
  },
  {
   "cell_type": "markdown",
   "id": "089575e5",
   "metadata": {},
   "source": [
    "### 3.7. 'nameOrig' and 'nameDest'"
   ]
  },
  {
   "cell_type": "code",
   "execution_count": 15,
   "id": "ca33ebf4",
   "metadata": {},
   "outputs": [
    {
     "name": "stdout",
     "output_type": "stream",
     "text": [
      "Total number of transactions = 6362620\n",
      "Number of unique 'nameOrig' names = 6353307\n",
      "Number of unique 'nameDest' names = 2722362\n"
     ]
    }
   ],
   "source": [
    "# Let us now take a look at the 'nameOrig' and 'nameDest' features.\n",
    "\n",
    "print('Total number of transactions =', dataset.shape[0])\n",
    "print(\"Number of unique 'nameOrig' names =\", len(dataset['nameOrig'].unique()))\n",
    "print(\"Number of unique 'nameDest' names =\", len(dataset['nameDest'].unique()))"
   ]
  },
  {
   "cell_type": "markdown",
   "id": "9eeb80a0",
   "metadata": {},
   "source": [
    "We can see from the above that there are some common destination accounts for some transactions.\n",
    "\n",
    "Let us now take a look at those common destination accounts if they are accounts of frauds or not."
   ]
  },
  {
   "cell_type": "code",
   "execution_count": 16,
   "id": "7ae1ebec",
   "metadata": {},
   "outputs": [
    {
     "data": {
      "text/html": [
       "<div>\n",
       "<style scoped>\n",
       "    .dataframe tbody tr th:only-of-type {\n",
       "        vertical-align: middle;\n",
       "    }\n",
       "\n",
       "    .dataframe tbody tr th {\n",
       "        vertical-align: top;\n",
       "    }\n",
       "\n",
       "    .dataframe thead th {\n",
       "        text-align: right;\n",
       "    }\n",
       "</style>\n",
       "<table border=\"1\" class=\"dataframe\">\n",
       "  <thead>\n",
       "    <tr style=\"text-align: right;\">\n",
       "      <th></th>\n",
       "      <th>type</th>\n",
       "      <th>amount</th>\n",
       "      <th>nameDest</th>\n",
       "    </tr>\n",
       "  </thead>\n",
       "  <tbody>\n",
       "    <tr>\n",
       "      <th>2</th>\n",
       "      <td>TRANSFER</td>\n",
       "      <td>181.00</td>\n",
       "      <td>C553264065</td>\n",
       "    </tr>\n",
       "    <tr>\n",
       "      <th>3</th>\n",
       "      <td>CASH_OUT</td>\n",
       "      <td>181.00</td>\n",
       "      <td>C38997010</td>\n",
       "    </tr>\n",
       "    <tr>\n",
       "      <th>251</th>\n",
       "      <td>TRANSFER</td>\n",
       "      <td>2806.00</td>\n",
       "      <td>C972765878</td>\n",
       "    </tr>\n",
       "    <tr>\n",
       "      <th>252</th>\n",
       "      <td>CASH_OUT</td>\n",
       "      <td>2806.00</td>\n",
       "      <td>C1007251739</td>\n",
       "    </tr>\n",
       "    <tr>\n",
       "      <th>680</th>\n",
       "      <td>TRANSFER</td>\n",
       "      <td>20128.00</td>\n",
       "      <td>C1848415041</td>\n",
       "    </tr>\n",
       "    <tr>\n",
       "      <th>...</th>\n",
       "      <td>...</td>\n",
       "      <td>...</td>\n",
       "      <td>...</td>\n",
       "    </tr>\n",
       "    <tr>\n",
       "      <th>6362615</th>\n",
       "      <td>CASH_OUT</td>\n",
       "      <td>339682.13</td>\n",
       "      <td>C776919290</td>\n",
       "    </tr>\n",
       "    <tr>\n",
       "      <th>6362616</th>\n",
       "      <td>TRANSFER</td>\n",
       "      <td>6311409.28</td>\n",
       "      <td>C1881841831</td>\n",
       "    </tr>\n",
       "    <tr>\n",
       "      <th>6362617</th>\n",
       "      <td>CASH_OUT</td>\n",
       "      <td>6311409.28</td>\n",
       "      <td>C1365125890</td>\n",
       "    </tr>\n",
       "    <tr>\n",
       "      <th>6362618</th>\n",
       "      <td>TRANSFER</td>\n",
       "      <td>850002.52</td>\n",
       "      <td>C2080388513</td>\n",
       "    </tr>\n",
       "    <tr>\n",
       "      <th>6362619</th>\n",
       "      <td>CASH_OUT</td>\n",
       "      <td>850002.52</td>\n",
       "      <td>C873221189</td>\n",
       "    </tr>\n",
       "  </tbody>\n",
       "</table>\n",
       "<p>8213 rows × 3 columns</p>\n",
       "</div>"
      ],
      "text/plain": [
       "             type     amount     nameDest\n",
       "2        TRANSFER     181.00   C553264065\n",
       "3        CASH_OUT     181.00    C38997010\n",
       "251      TRANSFER    2806.00   C972765878\n",
       "252      CASH_OUT    2806.00  C1007251739\n",
       "680      TRANSFER   20128.00  C1848415041\n",
       "...           ...        ...          ...\n",
       "6362615  CASH_OUT  339682.13   C776919290\n",
       "6362616  TRANSFER 6311409.28  C1881841831\n",
       "6362617  CASH_OUT 6311409.28  C1365125890\n",
       "6362618  TRANSFER  850002.52  C2080388513\n",
       "6362619  CASH_OUT  850002.52   C873221189\n",
       "\n",
       "[8213 rows x 3 columns]"
      ]
     },
     "execution_count": 16,
     "metadata": {},
     "output_type": "execute_result"
    }
   ],
   "source": [
    "fraud_df = dataset[dataset['isFraud'] == 1]\n",
    "dest_accounts = fraud_df.loc[:, ['type', 'amount', 'nameDest']]\n",
    "dest_accounts"
   ]
  },
  {
   "cell_type": "markdown",
   "id": "1725b749",
   "metadata": {},
   "source": [
    "The above dataframe consists of all the destination accounts associated with fraudulent behavior. So these accounts need to be monitored or blocked to prevent/avoid fraud transactions."
   ]
  },
  {
   "cell_type": "markdown",
   "id": "1c7ea134",
   "metadata": {},
   "source": [
    "## 4. Data Cleaning"
   ]
  },
  {
   "cell_type": "markdown",
   "id": "72a7ace4",
   "metadata": {},
   "source": [
    "### 4.1. Feature Selection"
   ]
  },
  {
   "cell_type": "markdown",
   "id": "7a7640af",
   "metadata": {},
   "source": [
    "From the EDA part we came to a conclusion that 'step', 'nameOrig', 'nameDest' and 'isFlaggedFraud' are not useful features for predicting Fraudulent behaviors.\n",
    "\n",
    "Also, Fraudulent Transactions only occur in transactions of 'type' - 'CASH_OUT' and 'TRANSFER\". So we will use only those transactions to create our model."
   ]
  },
  {
   "cell_type": "code",
   "execution_count": 17,
   "id": "bc42a0c0",
   "metadata": {},
   "outputs": [],
   "source": [
    "cleaned_dataset = dataset.drop(columns = ['step', 'nameOrig', 'nameDest', 'isFlaggedFraud' ])\n",
    "cleaned_dataset = cleaned_dataset.loc[(dataset.type == 'TRANSFER') | (dataset.type == 'CASH_OUT')]\n",
    "cleaned_dataset.reset_index(inplace = True, drop = True)\n",
    "# cleaned_dataset"
   ]
  },
  {
   "cell_type": "markdown",
   "id": "e011e8e7",
   "metadata": {},
   "source": [
    "### 4.2. Handling Missing values or Incorrect values"
   ]
  },
  {
   "cell_type": "code",
   "execution_count": 18,
   "id": "812d6c3c",
   "metadata": {},
   "outputs": [
    {
     "data": {
      "text/html": [
       "<div>\n",
       "<style scoped>\n",
       "    .dataframe tbody tr th:only-of-type {\n",
       "        vertical-align: middle;\n",
       "    }\n",
       "\n",
       "    .dataframe tbody tr th {\n",
       "        vertical-align: top;\n",
       "    }\n",
       "\n",
       "    .dataframe thead th {\n",
       "        text-align: right;\n",
       "    }\n",
       "</style>\n",
       "<table border=\"1\" class=\"dataframe\">\n",
       "  <thead>\n",
       "    <tr style=\"text-align: right;\">\n",
       "      <th></th>\n",
       "      <th>type</th>\n",
       "      <th>amount</th>\n",
       "      <th>oldbalanceOrg</th>\n",
       "      <th>newbalanceOrig</th>\n",
       "      <th>oldbalanceDest</th>\n",
       "      <th>newbalanceDest</th>\n",
       "      <th>isFraud</th>\n",
       "      <th>diff_balanceOrig</th>\n",
       "      <th>diff_balanceDest</th>\n",
       "    </tr>\n",
       "  </thead>\n",
       "  <tbody>\n",
       "    <tr>\n",
       "      <th>0</th>\n",
       "      <td>TRANSFER</td>\n",
       "      <td>181.00</td>\n",
       "      <td>181.00</td>\n",
       "      <td>0.00</td>\n",
       "      <td>0.00</td>\n",
       "      <td>0.00</td>\n",
       "      <td>1</td>\n",
       "      <td>181.00</td>\n",
       "      <td>0.00</td>\n",
       "    </tr>\n",
       "    <tr>\n",
       "      <th>1</th>\n",
       "      <td>CASH_OUT</td>\n",
       "      <td>181.00</td>\n",
       "      <td>181.00</td>\n",
       "      <td>0.00</td>\n",
       "      <td>21182.00</td>\n",
       "      <td>0.00</td>\n",
       "      <td>1</td>\n",
       "      <td>181.00</td>\n",
       "      <td>21182.00</td>\n",
       "    </tr>\n",
       "    <tr>\n",
       "      <th>2</th>\n",
       "      <td>CASH_OUT</td>\n",
       "      <td>229133.94</td>\n",
       "      <td>15325.00</td>\n",
       "      <td>0.00</td>\n",
       "      <td>5083.00</td>\n",
       "      <td>51513.44</td>\n",
       "      <td>0</td>\n",
       "      <td>15325.00</td>\n",
       "      <td>-46430.44</td>\n",
       "    </tr>\n",
       "    <tr>\n",
       "      <th>3</th>\n",
       "      <td>TRANSFER</td>\n",
       "      <td>215310.30</td>\n",
       "      <td>705.00</td>\n",
       "      <td>0.00</td>\n",
       "      <td>22425.00</td>\n",
       "      <td>0.00</td>\n",
       "      <td>0</td>\n",
       "      <td>705.00</td>\n",
       "      <td>22425.00</td>\n",
       "    </tr>\n",
       "    <tr>\n",
       "      <th>4</th>\n",
       "      <td>TRANSFER</td>\n",
       "      <td>311685.89</td>\n",
       "      <td>10835.00</td>\n",
       "      <td>0.00</td>\n",
       "      <td>6267.00</td>\n",
       "      <td>2719172.89</td>\n",
       "      <td>0</td>\n",
       "      <td>10835.00</td>\n",
       "      <td>-2712905.89</td>\n",
       "    </tr>\n",
       "  </tbody>\n",
       "</table>\n",
       "</div>"
      ],
      "text/plain": [
       "       type    amount  oldbalanceOrg  newbalanceOrig  oldbalanceDest  \\\n",
       "0  TRANSFER    181.00         181.00            0.00            0.00   \n",
       "1  CASH_OUT    181.00         181.00            0.00        21182.00   \n",
       "2  CASH_OUT 229133.94       15325.00            0.00         5083.00   \n",
       "3  TRANSFER 215310.30         705.00            0.00        22425.00   \n",
       "4  TRANSFER 311685.89       10835.00            0.00         6267.00   \n",
       "\n",
       "   newbalanceDest  isFraud  diff_balanceOrig  diff_balanceDest  \n",
       "0            0.00        1            181.00              0.00  \n",
       "1            0.00        1            181.00          21182.00  \n",
       "2        51513.44        0          15325.00         -46430.44  \n",
       "3            0.00        0            705.00          22425.00  \n",
       "4      2719172.89        0          10835.00       -2712905.89  "
      ]
     },
     "execution_count": 18,
     "metadata": {},
     "output_type": "execute_result"
    }
   ],
   "source": [
    "cleaned_dataset['diff_balanceOrig'] = cleaned_dataset.oldbalanceOrg - cleaned_dataset.newbalanceOrig\n",
    "cleaned_dataset['diff_balanceDest'] = cleaned_dataset.oldbalanceDest - cleaned_dataset.newbalanceDest\n",
    "cleaned_dataset.head()"
   ]
  },
  {
   "cell_type": "markdown",
   "id": "b7a59d78",
   "metadata": {},
   "source": [
    "From the above data it seems some data are misleading as the amounts of some transactions do not match with the difference between the Old balance and the New balance, whether it may be sender account or recepient account.\n",
    "\n",
    "So we need to fix those errors."
   ]
  },
  {
   "cell_type": "code",
   "execution_count": 19,
   "id": "bba5260a",
   "metadata": {},
   "outputs": [],
   "source": [
    "''' Replacing the 'amount' column with 'diff_balanceOrig'. The reason for doing this is that the transaction amount doesnot \n",
    "    match with the difference of the balances before and after the transaction of senders account.\n",
    "'''\n",
    "\n",
    "cleaned_dataset['amount'] = cleaned_dataset['diff_balanceOrig']"
   ]
  },
  {
   "cell_type": "code",
   "execution_count": 20,
   "id": "ac2869f6",
   "metadata": {},
   "outputs": [],
   "source": [
    "''' Replacing the 'newbalanceDest' column with the sum of 'amount' and 'oldbalanceDest'. The reason for doing this is that the transaction amount doesnot \n",
    "    match with the difference of the balances before and after the transaction of recipient account.\n",
    "'''\n",
    "\n",
    "cleaned_dataset['newbalanceDest'] = cleaned_dataset['amount'] + cleaned_dataset['oldbalanceDest']"
   ]
  },
  {
   "cell_type": "code",
   "execution_count": 21,
   "id": "a92c705f",
   "metadata": {},
   "outputs": [
    {
     "data": {
      "text/html": [
       "<div>\n",
       "<style scoped>\n",
       "    .dataframe tbody tr th:only-of-type {\n",
       "        vertical-align: middle;\n",
       "    }\n",
       "\n",
       "    .dataframe tbody tr th {\n",
       "        vertical-align: top;\n",
       "    }\n",
       "\n",
       "    .dataframe thead th {\n",
       "        text-align: right;\n",
       "    }\n",
       "</style>\n",
       "<table border=\"1\" class=\"dataframe\">\n",
       "  <thead>\n",
       "    <tr style=\"text-align: right;\">\n",
       "      <th></th>\n",
       "      <th>type</th>\n",
       "      <th>amount</th>\n",
       "      <th>oldbalanceOrg</th>\n",
       "      <th>newbalanceOrig</th>\n",
       "      <th>oldbalanceDest</th>\n",
       "      <th>newbalanceDest</th>\n",
       "      <th>isFraud</th>\n",
       "    </tr>\n",
       "  </thead>\n",
       "  <tbody>\n",
       "    <tr>\n",
       "      <th>0</th>\n",
       "      <td>TRANSFER</td>\n",
       "      <td>181.00</td>\n",
       "      <td>181.00</td>\n",
       "      <td>0.00</td>\n",
       "      <td>0.00</td>\n",
       "      <td>181.00</td>\n",
       "      <td>1</td>\n",
       "    </tr>\n",
       "    <tr>\n",
       "      <th>1</th>\n",
       "      <td>CASH_OUT</td>\n",
       "      <td>181.00</td>\n",
       "      <td>181.00</td>\n",
       "      <td>0.00</td>\n",
       "      <td>21182.00</td>\n",
       "      <td>21363.00</td>\n",
       "      <td>1</td>\n",
       "    </tr>\n",
       "    <tr>\n",
       "      <th>2</th>\n",
       "      <td>CASH_OUT</td>\n",
       "      <td>15325.00</td>\n",
       "      <td>15325.00</td>\n",
       "      <td>0.00</td>\n",
       "      <td>5083.00</td>\n",
       "      <td>20408.00</td>\n",
       "      <td>0</td>\n",
       "    </tr>\n",
       "    <tr>\n",
       "      <th>3</th>\n",
       "      <td>TRANSFER</td>\n",
       "      <td>705.00</td>\n",
       "      <td>705.00</td>\n",
       "      <td>0.00</td>\n",
       "      <td>22425.00</td>\n",
       "      <td>23130.00</td>\n",
       "      <td>0</td>\n",
       "    </tr>\n",
       "    <tr>\n",
       "      <th>4</th>\n",
       "      <td>TRANSFER</td>\n",
       "      <td>10835.00</td>\n",
       "      <td>10835.00</td>\n",
       "      <td>0.00</td>\n",
       "      <td>6267.00</td>\n",
       "      <td>17102.00</td>\n",
       "      <td>0</td>\n",
       "    </tr>\n",
       "  </tbody>\n",
       "</table>\n",
       "</div>"
      ],
      "text/plain": [
       "       type   amount  oldbalanceOrg  newbalanceOrig  oldbalanceDest  \\\n",
       "0  TRANSFER   181.00         181.00            0.00            0.00   \n",
       "1  CASH_OUT   181.00         181.00            0.00        21182.00   \n",
       "2  CASH_OUT 15325.00       15325.00            0.00         5083.00   \n",
       "3  TRANSFER   705.00         705.00            0.00        22425.00   \n",
       "4  TRANSFER 10835.00       10835.00            0.00         6267.00   \n",
       "\n",
       "   newbalanceDest  isFraud  \n",
       "0          181.00        1  \n",
       "1        21363.00        1  \n",
       "2        20408.00        0  \n",
       "3        23130.00        0  \n",
       "4        17102.00        0  "
      ]
     },
     "execution_count": 21,
     "metadata": {},
     "output_type": "execute_result"
    }
   ],
   "source": [
    "# We now can remove the 'diff_balanceOrig' and 'diff_balanceDest' columns.\n",
    "\n",
    "cleaned_dataset.drop(columns = ['diff_balanceOrig', 'diff_balanceDest'], inplace = True)\n",
    "cleaned_dataset.head()"
   ]
  },
  {
   "cell_type": "markdown",
   "id": "e5f12acb",
   "metadata": {},
   "source": [
    "### 4.3. Creating labels for the categorical variable 'type'"
   ]
  },
  {
   "cell_type": "code",
   "execution_count": 22,
   "id": "7e915130",
   "metadata": {},
   "outputs": [],
   "source": [
    "# Let us now encode our categorical variable 'type'\n",
    "\n",
    "cleaned_dataset['type'] = cleaned_dataset['type'].map({'TRANSFER' : 0, 'CASH_OUT' : 1})"
   ]
  },
  {
   "cell_type": "markdown",
   "id": "80af51c0",
   "metadata": {},
   "source": [
    "### 4.4. Correlation Plot"
   ]
  },
  {
   "cell_type": "code",
   "execution_count": 23,
   "id": "3b74d630",
   "metadata": {},
   "outputs": [
    {
     "data": {
      "text/html": [
       "<div>\n",
       "<style scoped>\n",
       "    .dataframe tbody tr th:only-of-type {\n",
       "        vertical-align: middle;\n",
       "    }\n",
       "\n",
       "    .dataframe tbody tr th {\n",
       "        vertical-align: top;\n",
       "    }\n",
       "\n",
       "    .dataframe thead th {\n",
       "        text-align: right;\n",
       "    }\n",
       "</style>\n",
       "<table border=\"1\" class=\"dataframe\">\n",
       "  <thead>\n",
       "    <tr style=\"text-align: right;\">\n",
       "      <th></th>\n",
       "      <th>type</th>\n",
       "      <th>amount</th>\n",
       "      <th>oldbalanceOrg</th>\n",
       "      <th>newbalanceOrig</th>\n",
       "      <th>oldbalanceDest</th>\n",
       "      <th>newbalanceDest</th>\n",
       "      <th>isFraud</th>\n",
       "    </tr>\n",
       "  </thead>\n",
       "  <tbody>\n",
       "    <tr>\n",
       "      <th>type</th>\n",
       "      <td>1.00</td>\n",
       "      <td>-0.04</td>\n",
       "      <td>-0.01</td>\n",
       "      <td>0.02</td>\n",
       "      <td>-0.10</td>\n",
       "      <td>-0.10</td>\n",
       "      <td>-0.04</td>\n",
       "    </tr>\n",
       "    <tr>\n",
       "      <th>amount</th>\n",
       "      <td>-0.04</td>\n",
       "      <td>1.00</td>\n",
       "      <td>0.82</td>\n",
       "      <td>0.27</td>\n",
       "      <td>-0.02</td>\n",
       "      <td>0.02</td>\n",
       "      <td>0.47</td>\n",
       "    </tr>\n",
       "    <tr>\n",
       "      <th>oldbalanceOrg</th>\n",
       "      <td>-0.01</td>\n",
       "      <td>0.82</td>\n",
       "      <td>1.00</td>\n",
       "      <td>0.78</td>\n",
       "      <td>-0.02</td>\n",
       "      <td>0.01</td>\n",
       "      <td>0.35</td>\n",
       "    </tr>\n",
       "    <tr>\n",
       "      <th>newbalanceOrig</th>\n",
       "      <td>0.02</td>\n",
       "      <td>0.27</td>\n",
       "      <td>0.78</td>\n",
       "      <td>1.00</td>\n",
       "      <td>-0.01</td>\n",
       "      <td>-0.00</td>\n",
       "      <td>0.06</td>\n",
       "    </tr>\n",
       "    <tr>\n",
       "      <th>oldbalanceDest</th>\n",
       "      <td>-0.10</td>\n",
       "      <td>-0.02</td>\n",
       "      <td>-0.02</td>\n",
       "      <td>-0.01</td>\n",
       "      <td>1.00</td>\n",
       "      <td>1.00</td>\n",
       "      <td>-0.01</td>\n",
       "    </tr>\n",
       "    <tr>\n",
       "      <th>newbalanceDest</th>\n",
       "      <td>-0.10</td>\n",
       "      <td>0.02</td>\n",
       "      <td>0.01</td>\n",
       "      <td>-0.00</td>\n",
       "      <td>1.00</td>\n",
       "      <td>1.00</td>\n",
       "      <td>0.00</td>\n",
       "    </tr>\n",
       "    <tr>\n",
       "      <th>isFraud</th>\n",
       "      <td>-0.04</td>\n",
       "      <td>0.47</td>\n",
       "      <td>0.35</td>\n",
       "      <td>0.06</td>\n",
       "      <td>-0.01</td>\n",
       "      <td>0.00</td>\n",
       "      <td>1.00</td>\n",
       "    </tr>\n",
       "  </tbody>\n",
       "</table>\n",
       "</div>"
      ],
      "text/plain": [
       "                type  amount  oldbalanceOrg  newbalanceOrig  oldbalanceDest  \\\n",
       "type            1.00   -0.04          -0.01            0.02           -0.10   \n",
       "amount         -0.04    1.00           0.82            0.27           -0.02   \n",
       "oldbalanceOrg  -0.01    0.82           1.00            0.78           -0.02   \n",
       "newbalanceOrig  0.02    0.27           0.78            1.00           -0.01   \n",
       "oldbalanceDest -0.10   -0.02          -0.02           -0.01            1.00   \n",
       "newbalanceDest -0.10    0.02           0.01           -0.00            1.00   \n",
       "isFraud        -0.04    0.47           0.35            0.06           -0.01   \n",
       "\n",
       "                newbalanceDest  isFraud  \n",
       "type                     -0.10    -0.04  \n",
       "amount                    0.02     0.47  \n",
       "oldbalanceOrg             0.01     0.35  \n",
       "newbalanceOrig           -0.00     0.06  \n",
       "oldbalanceDest            1.00    -0.01  \n",
       "newbalanceDest            1.00     0.00  \n",
       "isFraud                   0.00     1.00  "
      ]
     },
     "execution_count": 23,
     "metadata": {},
     "output_type": "execute_result"
    }
   ],
   "source": [
    "cleaned_dataset.corr()"
   ]
  },
  {
   "cell_type": "code",
   "execution_count": 24,
   "id": "b3e3ad9c",
   "metadata": {},
   "outputs": [
    {
     "data": {
      "image/png": "[encoded data removed]",
      "text/plain": [
       "<Figure size 1080x720 with 2 Axes>"
      ]
     },
     "metadata": {},
     "output_type": "display_data"
    }
   ],
   "source": [
    "plt.figure(figsize = (15,10))\n",
    "plt.title('Heatmap of the Correlation of features', fontsize = 20)\n",
    "sns.heatmap(cleaned_dataset.corr(), cmap = 'PiYG')\n",
    "plt.show()"
   ]
  },
  {
   "cell_type": "markdown",
   "id": "3c89bf6a",
   "metadata": {},
   "source": [
    "We can see from this plot that 'amount', 'oldbalanceOrg' and 'newbalanceOrig' are highly correlated with each other.\n",
    "\n",
    "We can also see that 'oldbalanceDest' and 'newbalanceDest' are totally correlated with each other.\n",
    "\n",
    "Also 'amount' and 'oldbalanceOrg' has some correlation with 'isFraud'."
   ]
  },
  {
   "cell_type": "markdown",
   "id": "65b62757",
   "metadata": {},
   "source": [
    "## 5. Modelling"
   ]
  },
  {
   "cell_type": "markdown",
   "id": "9bc9204f",
   "metadata": {},
   "source": [
    "### 5.1. Declaring the variables"
   ]
  },
  {
   "cell_type": "code",
   "execution_count": 29,
   "id": "fc17d80e",
   "metadata": {},
   "outputs": [],
   "source": [
    "X = cleaned_dataset.iloc[:, :-1].values\n",
    "y = cleaned_dataset.iloc[:, -1].values"
   ]
  },
  {
   "cell_type": "markdown",
   "id": "90bc5d9d",
   "metadata": {},
   "source": [
    "### 5.2. Splitting the dataset into the Training set and Test set"
   ]
  },
  {
   "cell_type": "code",
   "execution_count": 30,
   "id": "3bceca54",
   "metadata": {},
   "outputs": [],
   "source": [
    "from sklearn.model_selection import train_test_split\n",
    "X_train, X_test, y_train, y_test = train_test_split(X, y, test_size = 0.20, random_state = 6)"
   ]
  },
  {
   "cell_type": "markdown",
   "id": "c58d1158",
   "metadata": {},
   "source": [
    "### 5.3. Feature Scaling"
   ]
  },
  {
   "cell_type": "code",
   "execution_count": 31,
   "id": "74100fae",
   "metadata": {},
   "outputs": [],
   "source": [
    "from sklearn.preprocessing import StandardScaler\n",
    "sc = StandardScaler()\n",
    "X_train = sc.fit_transform(X_train)\n",
    "X_test = sc.transform(X_test)"
   ]
  },
  {
   "cell_type": "markdown",
   "id": "3d7d3b5b",
   "metadata": {},
   "source": [
    "### 5.4. Model"
   ]
  },
  {
   "cell_type": "code",
   "execution_count": 32,
   "id": "fd147513",
   "metadata": {},
   "outputs": [
    {
     "name": "stderr",
     "output_type": "stream",
     "text": [
      "C:\\Users\\sumu\\anaconda3\\lib\\site-packages\\xgboost\\sklearn.py:1146: UserWarning: The use of label encoder in XGBClassifier is deprecated and will be removed in a future release. To remove this warning, do the following: 1) Pass option use_label_encoder=False when constructing XGBClassifier object; and 2) Encode your labels (y) as integers starting with 0, i.e. 0, 1, 2, ..., [num_class - 1].\n",
      "  warnings.warn(label_encoder_deprecation_msg, UserWarning)\n"
     ]
    },
    {
     "name": "stdout",
     "output_type": "stream",
     "text": [
      "[22:54:29] WARNING: C:/Users/Administrator/workspace/xgboost-win64_release_1.4.0/src/learner.cc:1095: Starting in XGBoost 1.3.0, the default evaluation metric used with the objective 'binary:logistic' was changed from 'error' to 'logloss'. Explicitly set eval_metric if you'd like to restore the old behavior.\n"
     ]
    },
    {
     "data": {
      "text/plain": [
       "XGBClassifier(base_score=0.5, booster='gbtree', colsample_bylevel=1,\n",
       "              colsample_bynode=1, colsample_bytree=1, gamma=0, gpu_id=-1,\n",
       "              importance_type='gain', interaction_constraints='',\n",
       "              learning_rate=0.300000012, max_delta_step=0, max_depth=6,\n",
       "              min_child_weight=1, missing=nan, monotone_constraints='()',\n",
       "              n_estimators=100, n_jobs=4, num_parallel_tree=1, random_state=0,\n",
       "              reg_alpha=0, reg_lambda=1, scale_pos_weight=1, subsample=1,\n",
       "              tree_method='exact', validate_parameters=1, verbosity=None)"
      ]
     },
     "execution_count": 32,
     "metadata": {},
     "output_type": "execute_result"
    }
   ],
   "source": [
    "from xgboost import XGBClassifier\n",
    "classifier = XGBClassifier()\n",
    "classifier.fit(X_train, y_train)"
   ]
  },
  {
   "cell_type": "markdown",
   "id": "68bb6b60",
   "metadata": {},
   "source": [
    "### 5.5. Confusion matrix and accuracy score"
   ]
  },
  {
   "cell_type": "code",
   "execution_count": 33,
   "id": "a93f328a",
   "metadata": {},
   "outputs": [
    {
     "name": "stdout",
     "output_type": "stream",
     "text": [
      "[[552339     74]\n",
      " [   912    757]]\n"
     ]
    },
    {
     "data": {
      "text/plain": [
       "0.998220480001155"
      ]
     },
     "execution_count": 33,
     "metadata": {},
     "output_type": "execute_result"
    }
   ],
   "source": [
    "from sklearn.metrics import confusion_matrix, accuracy_score\n",
    "y_pred = classifier.predict(X_test)\n",
    "cm = confusion_matrix(y_test, y_pred)\n",
    "print(cm)\n",
    "accuracy_score(y_test, y_pred)"
   ]
  }
 ],
 "metadata": {
  "kernelspec": {
   "display_name": "Python 3 (ipykernel)",
   "language": "python",
   "name": "python3"
  },
  "language_info": {
   "codemirror_mode": {
    "name": "ipython",
    "version": 3
   },
   "file_extension": ".py",
   "mimetype": "text/x-python",
   "name": "python",
   "nbconvert_exporter": "python",
   "pygments_lexer": "ipython3",
   "version": "3.8.8"
  }
 },
 "nbformat": 4,
 "nbformat_minor": 5
}
